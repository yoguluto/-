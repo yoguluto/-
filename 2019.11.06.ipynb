{
 "cells": [
  {
   "cell_type": "code",
   "execution_count": 1,
   "metadata": {},
   "outputs": [],
   "source": [
    "# the solution for 数理手法Ⅷ 11/6\n",
    "#Load some module\n",
    "import numpy as np #matrix computation \n",
    "import matplotlib.pyplot as plt # draw picture\n",
    "from scipy.optimize import minimize # to get r\n",
    "\n",
    "#Ridge Regression\n",
    "def ridge_regression(X, y, lambd): #X is the matrix of the independent data, y is the vector of the depedent variable\n",
    "    XTX = X.T*X\n",
    "    m, _ = XTX.shape\n",
    "    I = np.matrix(np.eye(m)) # unit matrix with rank equals to the number of the parameters (which are estimated) \n",
    "    w = (XTX + lambd*I).I*X.T*y # Use matrix to express L+sum(lambd*w)\n",
    "    return w\n",
    "#LASSO Regression"
   ]
  },
  {
   "cell_type": "code",
   "execution_count": 2,
   "metadata": {},
   "outputs": [
    {
     "data": {
      "text/plain": [
       "<matplotlib.contour.QuadContourSet at 0x25f96b30cf8>"
      ]
     },
     "execution_count": 2,
     "metadata": {},
     "output_type": "execute_result"
    },
    {
     "data": {
      "image/png": "[encoded data removed]",
      "text/plain": [
       "<Figure size 432x288 with 1 Axes>"
      ]
     },
     "metadata": {
      "needs_background": "light"
     },
     "output_type": "display_data"
    }
   ],
   "source": [
    "#build raw data\n",
    "X = []\n",
    "y = []\n",
    "L = lambda i,j:i**2-4*i+4*j**2-8*j+10 #original function L\n",
    "for i in range(0,10):\n",
    "    for j in range(0,10):\n",
    "        X.append([(i*0.1)**2,i*0.1,(j*0.1)**2,j*0.1,1]) #inculding x,y,x^2,y^2 and the constant\n",
    "        y.append(L(i*0.1,j*0.1))\n",
    "X = np.matrix(X)\n",
    "y = np.matrix(y).T #from row vector to column vector\n",
    "\n",
    "#draw contours of L\n",
    "Axis_X,Axis_Y = np.meshgrid(np.arange(-10,10,0.1),np.arange(-10,10,0.1))\n",
    "plt.contourf(Axis_X,Axis_Y,L(Axis_X,Axis_Y),50, alpha = 0.6, cmap = plt.cm.hot)"
   ]
  },
  {
   "cell_type": "code",
   "execution_count": 3,
   "metadata": {},
   "outputs": [
    {
     "name": "stdout",
     "output_type": "stream",
     "text": [
      "When lambda is 0,\n",
      "the coefficient of x^2 is 1.0,\n",
      "the coefficient of x is -4.0,\n",
      "the coefficient of y^2 is 4.0,\n",
      "the coefficient of y is -8.0,\n",
      "the constant is 10.0\n",
      "\n",
      "When lambda is 1,\n",
      "the coefficient of x^2 is -1.16,\n",
      "the coefficient of x is -1.43,\n",
      "the coefficient of y^2 is -0.92,\n",
      "the coefficient of y is -2.78,\n",
      "the constant is 8.42\n",
      "\n",
      "When lambda is 10,\n",
      "the coefficient of x^2 is -0.44,\n",
      "the coefficient of x is 0.21,\n",
      "the coefficient of y^2 is -0.7,\n",
      "the coefficient of y is -0.28,\n",
      "the constant is 5.8\n",
      "\n",
      "When lambda is 100,\n",
      "the coefficient of x^2 is 0.42,\n",
      "the coefficient of x is 0.8,\n",
      "the coefficient of y^2 is 0.35,\n",
      "the coefficient of y is 0.71,\n",
      "the constant is 2.56\n",
      "\n",
      "When lambda is 1000,\n",
      "the coefficient of x^2 is 0.12,\n",
      "the coefficient of x is 0.21,\n",
      "the coefficient of y^2 is 0.12,\n",
      "the coefficient of y is 0.2,\n",
      "the constant is 0.52\n",
      "\n",
      "When lambda is 10000,\n",
      "the coefficient of x^2 is 0.01,\n",
      "the coefficient of x is 0.02,\n",
      "the coefficient of y^2 is 0.01,\n",
      "the coefficient of y is 0.02,\n",
      "the constant is 0.06\n",
      "\n",
      "When lambda is 100000,\n",
      "the coefficient of x^2 is 0.0,\n",
      "the coefficient of x is 0.0,\n",
      "the coefficient of y^2 is 0.0,\n",
      "the coefficient of y is 0.0,\n",
      "the constant is 0.01\n",
      "\n"
     ]
    }
   ],
   "source": [
    "lambdaList = [0]+ ([10**i for i in range(0,6)])\n",
    "for l in lambdaList:\n",
    "    Coef = ridge_regression(X,y,l) #Verify the ridge regression\n",
    "    print(\"When lambda is {},\\nthe coefficient of x^2 is {},\\nthe coefficient of x is {},\\nthe coefficient of y^2 is {},\\nthe coefficient of y is {},\\nthe constant is {}\\n\".format(\n",
    "        l\n",
    "        ,round(Coef.tolist()[0][0],2)\n",
    "        ,round(Coef.tolist()[1][0],2)\n",
    "        ,round(Coef.tolist()[2][0],2)\n",
    "        ,round(Coef.tolist()[3][0],2)\n",
    "        ,round(Coef.tolist()[4][0],2)\n",
    "    ))"
   ]
  },
  {
   "cell_type": "code",
   "execution_count": 168,
   "metadata": {},
   "outputs": [
    {
     "data": {
      "text/plain": [
       "[<matplotlib.lines.Line2D at 0x1dbe3fceac8>]"
      ]
     },
     "execution_count": 168,
     "metadata": {},
     "output_type": "execute_result"
    },
    {
     "data": {
      "image/png": "[encoded data removed]",
      "text/plain": [
       "<Figure size 432x288 with 1 Axes>"
      ]
     },
     "metadata": {
      "needs_background": "light"
     },
     "output_type": "display_data"
    }
   ],
   "source": [
    "#draw the r* with different lambda\n",
    "Axis_X,Axis_Y = [],[]\n",
    "for i in range(0,100):\n",
    "    fun = lambda x_value,w_x,w_y: w_x*x_value[0]**2-4*x_value[0]+w_y*x_value[1]**2-8*x_value[1]+10 #rebuild the model to compute r easily for different lambda\n",
    "    res = minimize(fun,np.array([0,0]),args=(1+i,4+i), method='Nelder-Mead')\n",
    "    #print(\"r* is ({},{})\".format(round(res.x[0],2),round(res.x[1],2)))\n",
    "    Axis_X.append(res.x[0])\n",
    "    Axis_Y.append(res.x[1])\n",
    "plt.plot(Axis_X,Axis_Y)"
   ]
  },
  {
   "cell_type": "code",
   "execution_count": null,
   "metadata": {},
   "outputs": [],
   "source": []
  },
  {
   "cell_type": "code",
   "execution_count": 174,
   "metadata": {},
   "outputs": [
    {
     "data": {
      "text/plain": [
       "[<matplotlib.lines.Line2D at 0x1dbe3b022e8>]"
      ]
     },
     "execution_count": 174,
     "metadata": {},
     "output_type": "execute_result"
    },
    {
     "data": {
      "image/png": "[encoded data removed]",
      "text/plain": [
       "<Figure size 432x288 with 1 Axes>"
      ]
     },
     "metadata": {
      "needs_background": "light"
     },
     "output_type": "display_data"
    }
   ],
   "source": [
    "Axis_X,Axis_Y = [],[]\n",
    "for i in range(0,100):\n",
    "    fun = lambda x_value,i: x_value[0]**2-4*x_value[0]+4*x_value[1]**2-8*x_value[1]+10+i*abs(x_value[0])+i*abs(x_value[1]) #rebuild the model to compute r easily for different lambda\n",
    "    res = minimize(fun,np.array([0,0]),args=(i), method='Nelder-Mead')\n",
    "    #print(\"r* is ({},{})\".format(round(res.x[0],2),round(res.x[1],2)))\n",
    "    Axis_X.append(res.x[0])\n",
    "    Axis_Y.append(res.x[1])\n",
    "plt.plot(Axis_X,Axis_Y)"
   ]
  },
  {
   "cell_type": "code",
   "execution_count": null,
   "metadata": {},
   "outputs": [],
   "source": []
  },
  {
   "cell_type": "code",
   "execution_count": null,
   "metadata": {},
   "outputs": [],
   "source": []
  },
  {
   "cell_type": "code",
   "execution_count": null,
   "metadata": {},
   "outputs": [],
   "source": []
  },
  {
   "cell_type": "code",
   "execution_count": null,
   "metadata": {},
   "outputs": [],
   "source": []
  }
 ],
 "metadata": {
  "kernelspec": {
   "display_name": "Python 3",
   "language": "python",
   "name": "python3"
  },
  "language_info": {
   "codemirror_mode": {
    "name": "ipython",
    "version": 3
   },
   "file_extension": ".py",
   "mimetype": "text/x-python",
   "name": "python",
   "nbconvert_exporter": "python",
   "pygments_lexer": "ipython3",
   "version": "3.7.3"
  }
 },
 "nbformat": 4,
 "nbformat_minor": 4
}
